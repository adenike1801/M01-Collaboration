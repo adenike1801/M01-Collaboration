{
 "cells": [
  {
   "cell_type": "code",
   "execution_count": 2,
   "id": "35e88f6a",
   "metadata": {},
   "outputs": [
    {
     "name": "stdout",
     "output_type": "stream",
     "text": [
      "too low\n"
     ]
    }
   ],
   "source": [
    "secret = 6\n",
    "guess = 5\n",
    "if guess < secret:\n",
    "    print('too low')\n",
    "elif guess > secret:\n",
    "    print('too high')\n",
    "else:\n",
    "    print('just right')"
   ]
  },
  {
   "cell_type": "code",
   "execution_count": 3,
   "id": "fced16f4",
   "metadata": {},
   "outputs": [
    {
     "name": "stdout",
     "output_type": "stream",
     "text": [
      "cherry\n"
     ]
    }
   ],
   "source": [
    "small = True\n",
    "green = False\n",
    "\n",
    "if small and green:\n",
    "    print('pea')\n",
    "elif small and not green:\n",
    "    print('cherry')\n",
    "elif green and not small:\n",
    "    print('watermelon')\n",
    "elif not green and not small:\n",
    "    print('pumpkin')"
   ]
  },
  {
   "cell_type": "code",
   "execution_count": null,
   "id": "f7bb769c",
   "metadata": {},
   "outputs": [],
   "source": []
  }
 ],
 "metadata": {
  "kernelspec": {
   "display_name": "Python 3 (ipykernel)",
   "language": "python",
   "name": "python3"
  },
  "language_info": {
   "codemirror_mode": {
    "name": "ipython",
    "version": 3
   },
   "file_extension": ".py",
   "mimetype": "text/x-python",
   "name": "python",
   "nbconvert_exporter": "python",
   "pygments_lexer": "ipython3",
   "version": "3.9.12"
  }
 },
 "nbformat": 4,
 "nbformat_minor": 5
}
