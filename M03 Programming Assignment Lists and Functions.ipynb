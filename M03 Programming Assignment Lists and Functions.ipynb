{
 "cells": [
  {
   "cell_type": "code",
   "execution_count": 23,
   "id": "0987b924",
   "metadata": {},
   "outputs": [
    {
     "data": {
      "text/plain": [
       "['mozzarella', 'cinderella', 'salmonella']"
      ]
     },
     "execution_count": 23,
     "metadata": {},
     "output_type": "execute_result"
    }
   ],
   "source": [
    "things = list([\"mozzarella\",\"cinderella\",\"salmonella\"])\n",
    "things"
   ]
  },
  {
   "cell_type": "code",
   "execution_count": 15,
   "id": "d0c13549",
   "metadata": {},
   "outputs": [
    {
     "data": {
      "text/plain": [
       "['mozzarella', 'Cinderella', 'salmonella']"
      ]
     },
     "execution_count": 15,
     "metadata": {},
     "output_type": "execute_result"
    }
   ],
   "source": [
    "things[1]=things[1].capitalize()\n",
    "things\n",
    "#capitalize() changed cinderella to Cinderella"
   ]
  },
  {
   "cell_type": "code",
   "execution_count": 16,
   "id": "67212541",
   "metadata": {},
   "outputs": [
    {
     "data": {
      "text/plain": [
       "['MOZZARELLA', 'Cinderella', 'salmonella']"
      ]
     },
     "execution_count": 16,
     "metadata": {},
     "output_type": "execute_result"
    }
   ],
   "source": [
    "things[0]=things[0].upper()\n",
    "things\n",
    "#upper() changed mozzarella to MOZZARELLA"
   ]
  },
  {
   "cell_type": "code",
   "execution_count": 24,
   "id": "25681f1d",
   "metadata": {},
   "outputs": [
    {
     "name": "stdout",
     "output_type": "stream",
     "text": [
      " _______\n",
      "|       |\n",
      "| Nobel |\n",
      "|  #X   |\n",
      " \\     /\n",
      "  `---`\n",
      "  _|_|_\n"
     ]
    },
    {
     "data": {
      "text/plain": [
       "['mozzarella', 'cinderella']"
      ]
     },
     "execution_count": 24,
     "metadata": {},
     "output_type": "execute_result"
    }
   ],
   "source": [
    "things.remove(\"salmonella\")\n",
    "\n",
    "print(\" _______\")\n",
    "print(\"|       |\")\n",
    "print(\"| Nobel |\")\n",
    "print(\"|  #X   |\")\n",
    "print(\" \\     /\")\n",
    "print(\"  `---`\")\n",
    "print(\"  _|_|_\")\n",
    "\n",
    "things"
   ]
  },
  {
   "cell_type": "code",
   "execution_count": 25,
   "id": "7d5b833f",
   "metadata": {},
   "outputs": [],
   "source": [
    "def good():\n",
    "    return ['Harry', 'Ron', 'Hermione']"
   ]
  },
  {
   "cell_type": "code",
   "execution_count": 42,
   "id": "2a46f750",
   "metadata": {},
   "outputs": [
    {
     "name": "stdout",
     "output_type": "stream",
     "text": [
      "5\n"
     ]
    }
   ],
   "source": [
    "def get_odds():\n",
    "    odd_numbers = []\n",
    "    \n",
    "    for num in range(10):\n",
    "        if not num % 2 == 0:\n",
    "            odd_numbers.append(num)\n",
    "    print(odd_numbers[2])\n",
    "    \n",
    "get_odds()"
   ]
  },
  {
   "cell_type": "code",
   "execution_count": null,
   "id": "5ad8d505",
   "metadata": {},
   "outputs": [],
   "source": []
  },
  {
   "cell_type": "code",
   "execution_count": null,
   "id": "ecdf9721",
   "metadata": {},
   "outputs": [],
   "source": []
  }
 ],
 "metadata": {
  "kernelspec": {
   "display_name": "Python 3 (ipykernel)",
   "language": "python",
   "name": "python3"
  },
  "language_info": {
   "codemirror_mode": {
    "name": "ipython",
    "version": 3
   },
   "file_extension": ".py",
   "mimetype": "text/x-python",
   "name": "python",
   "nbconvert_exporter": "python",
   "pygments_lexer": "ipython3",
   "version": "3.9.12"
  }
 },
 "nbformat": 4,
 "nbformat_minor": 5
}
