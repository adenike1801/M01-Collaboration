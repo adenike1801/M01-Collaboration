{
 "cells": [
  {
   "cell_type": "code",
   "execution_count": 23,
   "id": "00aa51e2",
   "metadata": {},
   "outputs": [
    {
     "data": {
      "text/plain": [
       "['mozzarella', 'cinderella', 'salmonella']"
      ]
     },
     "execution_count": 23,
     "metadata": {},
     "output_type": "execute_result"
    }
   ],
   "source": [
    "things = list([\"mozzarella\",\"cinderella\",\"salmonella\"])\n",
    "things"
   ]
  },
  {
   "cell_type": "code",
   "execution_count": 15,
   "id": "5e65b288",
   "metadata": {},
   "outputs": [
    {
     "data": {
      "text/plain": [
       "['mozzarella', 'Cinderella', 'salmonella']"
      ]
     },
     "execution_count": 15,
     "metadata": {},
     "output_type": "execute_result"
    }
   ],
   "source": [
    "things[1]=things[1].capitalize()\n",
    "things\n",
    "#capitalize() changed cinderella to Cinderella"
   ]
  },
  {
   "cell_type": "code",
   "execution_count": 16,
   "id": "cdd8f8c1",
   "metadata": {},
   "outputs": [
    {
     "data": {
      "text/plain": [
       "['MOZZARELLA', 'Cinderella', 'salmonella']"
      ]
     },
     "execution_count": 16,
     "metadata": {},
     "output_type": "execute_result"
    }
   ],
   "source": [
    "things[0]=things[0].upper()\n",
    "things\n",
    "#upper() changed mozzarella to MOZZARELLA"
   ]
  },
  {
   "cell_type": "code",
   "execution_count": 24,
   "id": "cf3914ad",
   "metadata": {},
   "outputs": [
    {
     "name": "stdout",
     "output_type": "stream",
     "text": [
      " _______\n",
      "|       |\n",
      "| Nobel |\n",
      "|  #X   |\n",
      " \\     /\n",
      "  `---`\n",
      "  _|_|_\n"
     ]
    },
    {
     "data": {
      "text/plain": [
       "['mozzarella', 'cinderella']"
      ]
     },
     "execution_count": 24,
     "metadata": {},
     "output_type": "execute_result"
    }
   ],
   "source": [
    "things.remove(\"salmonella\")\n",
    "\n",
    "print(\" _______\")\n",
    "print(\"|       |\")\n",
    "print(\"| Nobel |\")\n",
    "print(\"|  #X   |\")\n",
    "print(\" \\     /\")\n",
    "print(\"  `---`\")\n",
    "print(\"  _|_|_\")\n",
    "\n",
    "things"
   ]
  },
  {
   "cell_type": "code",
   "execution_count": null,
   "id": "66a0727b",
   "metadata": {},
   "outputs": [],
   "source": []
  }
 ],
 "metadata": {
  "kernelspec": {
   "display_name": "Python 3 (ipykernel)",
   "language": "python",
   "name": "python3"
  },
  "language_info": {
   "codemirror_mode": {
    "name": "ipython",
    "version": 3
   },
   "file_extension": ".py",
   "mimetype": "text/x-python",
   "name": "python",
   "nbconvert_exporter": "python",
   "pygments_lexer": "ipython3",
   "version": "3.9.12"
  }
 },
 "nbformat": 4,
 "nbformat_minor": 5
}
