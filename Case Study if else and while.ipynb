{
 "cells": [
  {
   "cell_type": "code",
   "execution_count": 2,
   "id": "96c5f7ac",
   "metadata": {},
   "outputs": [
    {
     "name": "stdout",
     "output_type": "stream",
     "text": [
      "Enter Student's last name: Warner\n",
      "Enter Student's first name: John\n",
      "Enter Student's GPA: 3.6\n",
      "John Warner has made the Dean's List.\n",
      "\n",
      "Enter Student Last Name: Porter\n",
      "Enter Student's first name: Harry\n",
      "Enter Student's GPA: 3.28\n",
      "Harry Porter has made the Honor Roll.\n",
      "\n",
      "Enter Student Last Name: ZZZ\n"
     ]
    }
   ],
   "source": [
    "lastname = input(\"Enter Student's last name: \")\n",
    "\n",
    "while lastname != \"ZZZ\":\n",
    "    firstname = input(\"Enter Student's first name: \")\n",
    "    gpa = float(input(\"Enter Student's GPA: \"))\n",
    "    \n",
    "    if gpa >= 3.5:\n",
    "        print(\"{} {} has made the Dean's List.\".format(firstname, lastname))\n",
    "    else:\n",
    "        if gpa >= 3.25:\n",
    "            print(\"{} {} has made the Honor Roll.\".format(firstname, lastname)) \n",
    "    lastname = input(\"\\nEnter Student Last Name: \")"
   ]
  },
  {
   "cell_type": "code",
   "execution_count": null,
   "id": "7143fae8",
   "metadata": {},
   "outputs": [],
   "source": []
  }
 ],
 "metadata": {
  "kernelspec": {
   "display_name": "Python 3 (ipykernel)",
   "language": "python",
   "name": "python3"
  },
  "language_info": {
   "codemirror_mode": {
    "name": "ipython",
    "version": 3
   },
   "file_extension": ".py",
   "mimetype": "text/x-python",
   "name": "python",
   "nbconvert_exporter": "python",
   "pygments_lexer": "ipython3",
   "version": "3.9.12"
  }
 },
 "nbformat": 4,
 "nbformat_minor": 5
}
