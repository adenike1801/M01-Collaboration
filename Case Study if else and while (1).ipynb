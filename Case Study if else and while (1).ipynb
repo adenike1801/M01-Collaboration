{
 "cells": [
  {
   "cell_type": "code",
   "execution_count": 2,
   "id": "9a0a23fd",
   "metadata": {},
   "outputs": [
    {
     "name": "stdout",
     "output_type": "stream",
     "text": [
      "Enter Student's last name: Warner\n",
      "Enter Student's first name: John\n",
      "Enter Student's GPA: 3.6\n",
      "John Warner has made the Dean's List.\n",
      "\n",
      "Enter Student Last Name: Porter\n",
      "Enter Student's first name: Harry\n",
      "Enter Student's GPA: 3.28\n",
      "Harry Porter has made the Honor Roll.\n",
      "\n",
      "Enter Student Last Name: ZZZ\n"
     ]
    }
   ],
   "source": [
    "lastname = input(\"Enter Student's last name: \") #taking students last name input from user \n",
    "\n",
    "while lastname != \"ZZZ\": #checking whether lastname is ZZZ\n",
    "    firstname = input(\"Enter Student's first name: \") #taking students first name input from user\n",
    "    gpa = float(input(\"Enter Student's GPA: \")) #taking students gpa input from user\n",
    "    \n",
    "    if gpa >= 3.5: #checking whether gpa greater than 3.5 using if statement\n",
    "        print(\"{} {} has made the Dean's List.\".format(firstname, lastname))\n",
    "    else:\n",
    "        if gpa >= 3.25: #checking whether gpa greater than or equal to 3.25 for it to make it to Honor roll\n",
    "            print(\"{} {} has made the Honor Roll.\".format(firstname, lastname)) #formating the output\n",
    "    lastname = input(\"\\nEnter Student Last Name: \")"
   ]
  },
  {
   "cell_type": "code",
   "execution_count": null,
   "id": "129e75f7",
   "metadata": {},
   "outputs": [],
   "source": []
  }
 ],
 "metadata": {
  "kernelspec": {
   "display_name": "Python 3 (ipykernel)",
   "language": "python",
   "name": "python3"
  },
  "language_info": {
   "codemirror_mode": {
    "name": "ipython",
    "version": 3
   },
   "file_extension": ".py",
   "mimetype": "text/x-python",
   "name": "python",
   "nbconvert_exporter": "python",
   "pygments_lexer": "ipython3",
   "version": "3.9.12"
  }
 },
 "nbformat": 4,
 "nbformat_minor": 5
}
