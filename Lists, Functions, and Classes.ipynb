{
 "cells": [
  {
   "cell_type": "code",
   "execution_count": 2,
   "id": "5a6433ec",
   "metadata": {},
   "outputs": [
    {
     "name": "stdout",
     "output_type": "stream",
     "text": [
      "Enter type of vehicle : Car\n",
      "Enter make year : 2002\n",
      "Enter Manufacturer of Vehicle : Mitsubishi\n",
      "Enter model of Vehicle : Lancer Evo XII\n",
      "Enter whether 2 or 4 doored : 4\n",
      "Enter whether Solid roof or Sun roof : Solid\n",
      "\n",
      "Vehicle Type : Car\n",
      "Year : 2002\n",
      "Make : Mitsubishi\n",
      "Model : Lancer Evo XII\n",
      "No of doors : 4\n",
      "Type of roof : Solid\n"
     ]
    }
   ],
   "source": [
    "class Vehicle:\n",
    "    def __init__(self,type):   #constructor to initialize vehicle type\n",
    "        self.type=type \n",
    "\n",
    "#subclass Automobile from vehicle\n",
    "class Automobile(Vehicle):\n",
    "    def __init__(self,type,year,make,model,doors,roof):\n",
    "        super().__init__(type) #Invoking vehicle class constructor by super function\n",
    "        self.year = year\n",
    "        self.make = make\n",
    "        self.model = model\n",
    "        self.doors = doors\n",
    "        self.roof = roof\n",
    "\n",
    "#taking input from user\n",
    "v_type = input(\"Enter type of vehicle : \")\n",
    "v_year = input(\"Enter make year : \")\n",
    "v_make = input(\"Enter Manufacturer of Vehicle : \")\n",
    "v_model = input(\"Enter model of Vehicle : \")\n",
    "v_doors = input(\"Enter whether 2 or 4 doored : \")\n",
    "v_roof = input(\"Enter whether Solid roof or Sun roof : \")\n",
    "\n",
    "Auto = Automobile(v_type, v_year, v_make, v_model, v_doors, v_roof) #calling constructor with input values read from user\n",
    "\n",
    "#printing all the information\n",
    "print(\"\\nVehicle Type : \"+Auto.type)\n",
    "print(\"Year : \"+Auto.year)\n",
    "print(\"Make : \"+Auto.make)\n",
    "print(\"Model : \"+Auto.model)\n",
    "print(\"No of doors : \"+Auto.doors)\n",
    "print(\"Type of roof : \"+Auto.roof)"
   ]
  },
  {
   "cell_type": "code",
   "execution_count": null,
   "id": "b1eedb1c",
   "metadata": {},
   "outputs": [],
   "source": []
  }
 ],
 "metadata": {
  "kernelspec": {
   "display_name": "Python 3 (ipykernel)",
   "language": "python",
   "name": "python3"
  },
  "language_info": {
   "codemirror_mode": {
    "name": "ipython",
    "version": 3
   },
   "file_extension": ".py",
   "mimetype": "text/x-python",
   "name": "python",
   "nbconvert_exporter": "python",
   "pygments_lexer": "ipython3",
   "version": "3.9.12"
  }
 },
 "nbformat": 4,
 "nbformat_minor": 5
}
